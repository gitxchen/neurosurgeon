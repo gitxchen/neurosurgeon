{
 "cells": [
  {
   "cell_type": "code",
   "execution_count": 8,
   "metadata": {},
   "outputs": [],
   "source": [
    "import pandas as pd\n",
    "import matplotlib.pyplot as plt\n",
    "import numpy as np\n",
    "%matplotlib inline"
   ]
  },
  {
   "cell_type": "code",
   "execution_count": 9,
   "metadata": {},
   "outputs": [],
   "source": [
    "frame = pd.read_csv('ns_latency.txt')"
   ]
  },
  {
   "cell_type": "code",
   "execution_count": 10,
   "metadata": {},
   "outputs": [
    {
     "data": {
      "text/html": [
       "<div>\n",
       "<style scoped>\n",
       "    .dataframe tbody tr th:only-of-type {\n",
       "        vertical-align: middle;\n",
       "    }\n",
       "\n",
       "    .dataframe tbody tr th {\n",
       "        vertical-align: top;\n",
       "    }\n",
       "\n",
       "    .dataframe thead th {\n",
       "        text-align: right;\n",
       "    }\n",
       "</style>\n",
       "<table border=\"1\" class=\"dataframe\">\n",
       "  <thead>\n",
       "    <tr style=\"text-align: right;\">\n",
       "      <th></th>\n",
       "      <th>layer_name</th>\n",
       "      <th>mobile_processing</th>\n",
       "      <th>server_processing</th>\n",
       "      <th>transmission</th>\n",
       "      <th>end_to_end</th>\n",
       "    </tr>\n",
       "  </thead>\n",
       "  <tbody>\n",
       "    <tr>\n",
       "      <th>0</th>\n",
       "      <td>input</td>\n",
       "      <td>0</td>\n",
       "      <td>204</td>\n",
       "      <td>477</td>\n",
       "      <td>912</td>\n",
       "    </tr>\n",
       "    <tr>\n",
       "      <th>1</th>\n",
       "      <td>conv1</td>\n",
       "      <td>26</td>\n",
       "      <td>222</td>\n",
       "      <td>709</td>\n",
       "      <td>1433</td>\n",
       "    </tr>\n",
       "    <tr>\n",
       "      <th>2</th>\n",
       "      <td>norm1</td>\n",
       "      <td>33</td>\n",
       "      <td>236</td>\n",
       "      <td>691</td>\n",
       "      <td>1448</td>\n",
       "    </tr>\n",
       "    <tr>\n",
       "      <th>3</th>\n",
       "      <td>pool1</td>\n",
       "      <td>43</td>\n",
       "      <td>159</td>\n",
       "      <td>276</td>\n",
       "      <td>589</td>\n",
       "    </tr>\n",
       "    <tr>\n",
       "      <th>4</th>\n",
       "      <td>conv2_1</td>\n",
       "      <td>43</td>\n",
       "      <td>172</td>\n",
       "      <td>404</td>\n",
       "      <td>849</td>\n",
       "    </tr>\n",
       "    <tr>\n",
       "      <th>5</th>\n",
       "      <td>norm2</td>\n",
       "      <td>56</td>\n",
       "      <td>162</td>\n",
       "      <td>424</td>\n",
       "      <td>880</td>\n",
       "    </tr>\n",
       "    <tr>\n",
       "      <th>6</th>\n",
       "      <td>pool2</td>\n",
       "      <td>74</td>\n",
       "      <td>170</td>\n",
       "      <td>186</td>\n",
       "      <td>492</td>\n",
       "    </tr>\n",
       "    <tr>\n",
       "      <th>7</th>\n",
       "      <td>conv3_1</td>\n",
       "      <td>79</td>\n",
       "      <td>132</td>\n",
       "      <td>207</td>\n",
       "      <td>497</td>\n",
       "    </tr>\n",
       "    <tr>\n",
       "      <th>8</th>\n",
       "      <td>conv4_1</td>\n",
       "      <td>97</td>\n",
       "      <td>126</td>\n",
       "      <td>205</td>\n",
       "      <td>509</td>\n",
       "    </tr>\n",
       "    <tr>\n",
       "      <th>9</th>\n",
       "      <td>conv5_1</td>\n",
       "      <td>114</td>\n",
       "      <td>98</td>\n",
       "      <td>135</td>\n",
       "      <td>441</td>\n",
       "    </tr>\n",
       "    <tr>\n",
       "      <th>10</th>\n",
       "      <td>pool5</td>\n",
       "      <td>114</td>\n",
       "      <td>92</td>\n",
       "      <td>65</td>\n",
       "      <td>323</td>\n",
       "    </tr>\n",
       "    <tr>\n",
       "      <th>11</th>\n",
       "      <td>Reshape_5</td>\n",
       "      <td>118</td>\n",
       "      <td>96</td>\n",
       "      <td>66</td>\n",
       "      <td>332</td>\n",
       "    </tr>\n",
       "    <tr>\n",
       "      <th>12</th>\n",
       "      <td>fc6</td>\n",
       "      <td>269</td>\n",
       "      <td>34</td>\n",
       "      <td>66</td>\n",
       "      <td>579</td>\n",
       "    </tr>\n",
       "    <tr>\n",
       "      <th>13</th>\n",
       "      <td>Relu</td>\n",
       "      <td>270</td>\n",
       "      <td>32</td>\n",
       "      <td>49</td>\n",
       "      <td>577</td>\n",
       "    </tr>\n",
       "    <tr>\n",
       "      <th>14</th>\n",
       "      <td>fc7</td>\n",
       "      <td>339</td>\n",
       "      <td>9</td>\n",
       "      <td>67</td>\n",
       "      <td>713</td>\n",
       "    </tr>\n",
       "    <tr>\n",
       "      <th>15</th>\n",
       "      <td>Relu_1</td>\n",
       "      <td>344</td>\n",
       "      <td>9</td>\n",
       "      <td>51</td>\n",
       "      <td>726</td>\n",
       "    </tr>\n",
       "    <tr>\n",
       "      <th>16</th>\n",
       "      <td>fc8</td>\n",
       "      <td>365</td>\n",
       "      <td>7</td>\n",
       "      <td>47</td>\n",
       "      <td>763</td>\n",
       "    </tr>\n",
       "    <tr>\n",
       "      <th>17</th>\n",
       "      <td>softmax</td>\n",
       "      <td>460</td>\n",
       "      <td>0</td>\n",
       "      <td>0</td>\n",
       "      <td>460</td>\n",
       "    </tr>\n",
       "  </tbody>\n",
       "</table>\n",
       "</div>"
      ],
      "text/plain": [
       "   layer_name  mobile_processing  server_processing  transmission  end_to_end\n",
       "0       input                  0                204           477         912\n",
       "1       conv1                 26                222           709        1433\n",
       "2       norm1                 33                236           691        1448\n",
       "3       pool1                 43                159           276         589\n",
       "4     conv2_1                 43                172           404         849\n",
       "5       norm2                 56                162           424         880\n",
       "6       pool2                 74                170           186         492\n",
       "7     conv3_1                 79                132           207         497\n",
       "8     conv4_1                 97                126           205         509\n",
       "9     conv5_1                114                 98           135         441\n",
       "10      pool5                114                 92            65         323\n",
       "11  Reshape_5                118                 96            66         332\n",
       "12        fc6                269                 34            66         579\n",
       "13       Relu                270                 32            49         577\n",
       "14        fc7                339                  9            67         713\n",
       "15     Relu_1                344                  9            51         726\n",
       "16        fc8                365                  7            47         763\n",
       "17    softmax                460                  0             0         460"
      ]
     },
     "execution_count": 10,
     "metadata": {},
     "output_type": "execute_result"
    }
   ],
   "source": [
    "frame"
   ]
  },
  {
   "cell_type": "code",
   "execution_count": 11,
   "metadata": {},
   "outputs": [],
   "source": [
    "frame['mobile_processing'] = frame['mobile_processing'].div(1000)\n",
    "frame['server_processing'] = frame['server_processing'].div(1000)\n",
    "frame['transmission'] = frame['transmission'].div(1000)\n",
    "frame['end_to_end'] = frame['end_to_end'].div(1000)"
   ]
  },
  {
   "cell_type": "code",
   "execution_count": 12,
   "metadata": {},
   "outputs": [],
   "source": [
    "final_data = frame.filter([\"layer_name\",\"mobile_processing\", \"transmission\", \"server_processing\"]).set_index([\"layer_name\"])"
   ]
  },
  {
   "cell_type": "code",
   "execution_count": 13,
   "metadata": {},
   "outputs": [
    {
     "data": {
      "image/png": "[encoded data removed]",
      "text/plain": [
       "<Figure size 432x288 with 1 Axes>"
      ]
     },
     "metadata": {},
     "output_type": "display_data"
    }
   ],
   "source": [
    "plot = final_data.plot.bar(stacked=True, title=\"NS Implemenation Delay Breakdown\")"
   ]
  },
  {
   "cell_type": "code",
   "execution_count": 46,
   "metadata": {},
   "outputs": [],
   "source": [
    "fig = plot.get_figure()"
   ]
  },
  {
   "cell_type": "code",
   "execution_count": 47,
   "metadata": {},
   "outputs": [],
   "source": [
    "fig.savefig(\"output.png\")"
   ]
  },
  {
   "cell_type": "code",
   "execution_count": null,
   "metadata": {},
   "outputs": [],
   "source": [
    "\n"
   ]
  }
 ],
 "metadata": {
  "kernelspec": {
   "display_name": "Python 3",
   "language": "python",
   "name": "python3"
  },
  "language_info": {
   "codemirror_mode": {
    "name": "ipython",
    "version": 3
   },
   "file_extension": ".py",
   "mimetype": "text/x-python",
   "name": "python",
   "nbconvert_exporter": "python",
   "pygments_lexer": "ipython3",
   "version": "3.6.6"
  }
 },
 "nbformat": 4,
 "nbformat_minor": 2
}
